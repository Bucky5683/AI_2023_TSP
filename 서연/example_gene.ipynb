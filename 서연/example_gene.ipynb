{
 "cells": [
  {
   "cell_type": "code",
   "execution_count": 3,
   "metadata": {},
   "outputs": [],
   "source": [
    "import numpy as np"
   ]
  },
  {
   "cell_type": "code",
   "execution_count": 4,
   "metadata": {},
   "outputs": [],
   "source": [
    "def generate_initial_population(N):\n",
    "    initial_population = np.random.randint(0, 2, (N, 2, 5))\n",
    "    return initial_population\n",
    "\n",
    "def evaluate_fitness(solution):\n",
    "    x1 = sum([2**(4-i) * solution[0][i] for i in range(5)])\n",
    "    x2 = sum([2**(4-i) * solution[1][i] for i in range(5)])\n",
    "\n",
    "    constraint_1 = (100 * x1 + 50 * x2) <= 3000\n",
    "    constraint_2 = (10 * x1) <= 100\n",
    "    if constraint_1 and constraint_2:\n",
    "        fitness_value = 100 * x1 + 40 * x2\n",
    "    else:\n",
    "        fitness_value = 0 #제약을 하나라도 어기면 적합도 0점\n",
    "\n",
    "    return fitness_value\n",
    "\n",
    "def crossover(solution1, solution2):\n",
    "    crossover_point1 = np.random.randint(1,4) #x1에 대한 교차 지점\n",
    "    crossover_point2 = np.random.randint(1,4) #x2에 대한 교차 지점\n",
    "\n",
    "    child = np.empty((2,5)) # 자식을 빈 배열로 생성\n",
    "\n",
    "    # 부모 유전자 가져오기\n",
    "    child[0][:crossover_point1] = solution1[0][:crossover_point1]\n",
    "    child[0][crossover_point1:] = solution2[0][crossover_point1:]\n",
    "    child[1][:crossover_point2] = solution1[1][:crossover_point2]\n",
    "    child[1][:crossover_point2] = solution2[1][:crossover_point2]\n",
    "\n",
    "    return child\n",
    "\n",
    "def mutation(child, p):\n",
    "    for row in range(2):\n",
    "        for col in range(5):\n",
    "            if np.random.random() < p:\n",
    "                child[row, col] = 1 - child[row, col]\n",
    "    \n",
    "    return child"
   ]
  },
  {
   "cell_type": "code",
   "execution_count": 5,
   "metadata": {},
   "outputs": [],
   "source": [
    "num_iter = 10 # 세대 수\n",
    "N = 20 # 한 세대에 포함되는 해의 개수\n",
    "N_P = 10 # 부모 개수\n",
    "mutation_sol_prob = 0.1 # 유전자(해)가 돌연변이일 확률\n",
    "mutation_gene_prob = 0.2 # 유전 개체가 돌연변이일 확률"
   ]
  },
  {
   "cell_type": "code",
   "execution_count": 6,
   "metadata": {},
   "outputs": [],
   "source": [
    "current_population = generate_initial_population(N)\n",
    "best_score = -1 # 지금까지 찾은 최대 적합도 초기화\n",
    "\n",
    "for _ in range(num_iter - 1):\n",
    "    # 해 평가 수행\n",
    "    fitness_value_list = np.array([evaluate_fitness(solution) for solution in current_population])\n",
    "\n",
    "    # 지금까지 찾은 최대 적합도보다 현 세대에 있는 최대 적합도가 크다면 업데이트\n",
    "    if fitness_value_list.max() > best_score:\n",
    "        best_score = fitness_value_list.max()\n",
    "        best_solution = current_population[fitness_value_list.argmax()]\n",
    "\n",
    "    # 적합도 기준 상위 N_P 개 해 선정(값이 큰 순으로 정렬하기 위해 -를 붙임)\n",
    "    parents = current_population[np.argsort(-fitness_value_list)]\n",
    "\n",
    "    # 새로운 해 집단 정의\n",
    "    new_population = parents\n",
    "\n",
    "    # 두 개의 부모를 선택하면서 자식 생성\n",
    "    for _ in range(N-N_P): # N - N_P는 생성해야되는 자식 개수\n",
    "        # 부모 선택\n",
    "        parent_1_idx, parents_2_idx = np.random.choice(N_P, 2, replace= False)\n",
    "        parent_1 = parents[parent_1_idx]\n",
    "        parent_2 = parents[parents_2_idx]\n",
    "\n",
    "        # 자식 생성\n",
    "        child = crossover(parent_1, parent_2)\n",
    "\n",
    "        # mutation_sol_prob의 확률로 돌연변이 연산 수행\n",
    "        if np.random.random() < mutation_sol_prob:\n",
    "            child = mutation(child, mutation_gene_prob)\n",
    "\n",
    "        # new_population에 child 추가\n",
    "        new_population = np.vstack([new_population, child.reshape(1, 2, 5)])"
   ]
  },
  {
   "cell_type": "code",
   "execution_count": 7,
   "metadata": {},
   "outputs": [
    {
     "data": {
      "text/plain": [
       "2240"
      ]
     },
     "execution_count": 7,
     "metadata": {},
     "output_type": "execute_result"
    }
   ],
   "source": [
    "best_score"
   ]
  },
  {
   "cell_type": "code",
   "execution_count": 8,
   "metadata": {},
   "outputs": [
    {
     "data": {
      "text/plain": [
       "array([[0, 1, 0, 1, 0],\n",
       "       [1, 1, 1, 1, 1]])"
      ]
     },
     "execution_count": 8,
     "metadata": {},
     "output_type": "execute_result"
    }
   ],
   "source": [
    "best_solution"
   ]
  }
 ],
 "metadata": {
  "kernelspec": {
   "display_name": "Python 3.11.0 64-bit",
   "language": "python",
   "name": "python3"
  },
  "language_info": {
   "codemirror_mode": {
    "name": "ipython",
    "version": 3
   },
   "file_extension": ".py",
   "mimetype": "text/x-python",
   "name": "python",
   "nbconvert_exporter": "python",
   "pygments_lexer": "ipython3",
   "version": "3.11.0"
  },
  "orig_nbformat": 4,
  "vscode": {
   "interpreter": {
    "hash": "483de7f6124540e36e319b9d0d6b36f2ea6502b0d72b03314acdf33aa1ce1e63"
   }
  }
 },
 "nbformat": 4,
 "nbformat_minor": 2
}
